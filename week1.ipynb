{
  "nbformat": 4,
  "nbformat_minor": 0,
  "metadata": {
    "colab": {
      "provenance": [],
      "authorship_tag": "ABX9TyO9gZmY3/Pv3uVqBce6v2wm",
      "include_colab_link": true
    },
    "kernelspec": {
      "name": "python3",
      "display_name": "Python 3"
    },
    "language_info": {
      "name": "python"
    }
  },
  "cells": [
    {
      "cell_type": "markdown",
      "metadata": {
        "id": "view-in-github",
        "colab_type": "text"
      },
      "source": [
        "<a href=\"https://colab.research.google.com/github/KatyayaniI5/ADSA-LAB/blob/main/week1.ipynb\" target=\"_parent\"><img src=\"https://colab.research.google.com/assets/colab-badge.svg\" alt=\"Open In Colab\"/></a>"
      ]
    },
    {
      "cell_type": "code",
      "execution_count": null,
      "metadata": {
        "id": "DFatUnpSmcgI",
        "colab": {
          "base_uri": "https://localhost:8080/"
        },
        "outputId": "d306c06d-cab9-4270-a2e5-49fc533ebb5a"
      },
      "outputs": [
        {
          "output_type": "stream",
          "name": "stdout",
          "text": [
            "Welcome to python programming\n",
            "Hello python\n",
            "Enter the value of a:5\n",
            "Enter the value of b:2\n",
            "Addition of two numbers is: 7\n",
            "Subtraction of two numbers is: 3\n",
            "Multiplication of two numbers is: 10\n",
            "Division of two numbers is: 2.5\n",
            "Modulus of two numbers is: 1\n"
          ]
        }
      ],
      "source": [
        "print(\"Welcome to python programming\")\n",
        "print(\"Hello python\")\n",
        "a=int(input(\"Enter the value of a:\"))\n",
        "b=int(input(\"Enter the value of b:\"))\n",
        "add=a+b\n",
        "print(\"Addition of two numbers is:\",add)\n",
        "sub=a-b\n",
        "print(\"Subtraction of two numbers is:\",sub)\n",
        "mul=a*b\n",
        "print(\"Multiplication of two numbers is:\",mul)\n",
        "div=a/b\n",
        "print(\"Division of two numbers is:\",div)\n",
        "mod=a%b\n",
        "print(\"Modulus of two numbers is:\",mod)"
      ]
    },
    {
      "cell_type": "code",
      "source": [
        "i=int(input(\"Enter the value of i:\"))\n",
        "print(\"Integer is\",i)\n",
        "f=float(input(\"Enter the value of f:\"))\n",
        "print(\"Float is\",f)\n",
        "a=5+6j\n",
        "print(a.real)\n",
        "print(a.imag)\n",
        "b=True\n",
        "c=False\n",
        "print(b)\n",
        "print(c)\n",
        "s=str(input(\"Enter the string:\"))\n",
        "print(s)"
      ],
      "metadata": {
        "colab": {
          "base_uri": "https://localhost:8080/"
        },
        "id": "-QkN5opo7AOc",
        "outputId": "2ac114e9-d5ac-44a6-cf9e-f68057cba140"
      },
      "execution_count": null,
      "outputs": [
        {
          "output_type": "stream",
          "name": "stdout",
          "text": [
            "Enter the value of i:3\n",
            "Integer is 3\n",
            "Enter the value of f:5.6\n",
            "Float is 5.6\n",
            "5.0\n",
            "6.0\n",
            "True\n",
            "False\n",
            "Enter the string:abcd\n",
            "abcd\n"
          ]
        }
      ]
    },
    {
      "cell_type": "code",
      "source": [
        "a=20\n",
        "print(type(a))\n",
        "print(tuple(range(5)))"
      ],
      "metadata": {
        "colab": {
          "base_uri": "https://localhost:8080/"
        },
        "id": "EQofnDjj78Sk",
        "outputId": "40dbcfa4-a18a-40b6-ad0b-c88fa644daff"
      },
      "execution_count": null,
      "outputs": [
        {
          "output_type": "stream",
          "name": "stdout",
          "text": [
            "<class 'int'>\n",
            "(0, 1, 2, 3, 4)\n"
          ]
        }
      ]
    },
    {
      "cell_type": "code",
      "source": [
        "a=20\n",
        "print(type(float(a)))\n",
        "print(float(a))"
      ],
      "metadata": {
        "colab": {
          "base_uri": "https://localhost:8080/"
        },
        "id": "3L1OpSJa8H3U",
        "outputId": "4c86dfe1-7eb6-47b0-f7ad-d786c530d969"
      },
      "execution_count": null,
      "outputs": [
        {
          "output_type": "stream",
          "name": "stdout",
          "text": [
            "<class 'float'>\n",
            "20.0\n"
          ]
        }
      ]
    },
    {
      "cell_type": "code",
      "source": [
        "a=int(input(\"enter a value\"))\n",
        "b=int(input(\"enter b value\"))\n",
        "c=int(input(\"enter c value\"))\n",
        "d=int(input(\"enter d value\"))\n",
        "distance=((c-a)**2+(d-b)**2)**0.5\n",
        "print(\"distance is\",distance)"
      ],
      "metadata": {
        "colab": {
          "base_uri": "https://localhost:8080/"
        },
        "id": "TXAMYRH78R30",
        "outputId": "1f647e33-eab5-4dc8-b5dd-c258cf4599c6"
      },
      "execution_count": null,
      "outputs": [
        {
          "output_type": "stream",
          "name": "stdout",
          "text": [
            "enter a value2\n",
            "enter b value4\n",
            "enter c value5\n",
            "enter d value6\n",
            "distance is 3.605551275463989\n"
          ]
        }
      ]
    },
    {
      "cell_type": "code",
      "source": [
        "a=int(input(\"enter a value\"))\n",
        "b=int(input(\"enter b value\"))\n",
        "c=int(input(\"enter c value\"))\n",
        "s=(a+b+c)/2\n",
        "area=(s*(s-a)*(s-b)*(s-c))**0.5\n",
        "print(\"area is\",area)"
      ],
      "metadata": {
        "colab": {
          "base_uri": "https://localhost:8080/"
        },
        "id": "GK_VppFW-x-s",
        "outputId": "110a9a73-6c8f-4676-dffc-55c73b392ce1"
      },
      "execution_count": null,
      "outputs": [
        {
          "output_type": "stream",
          "name": "stdout",
          "text": [
            "enter a value3\n",
            "enter b value4\n",
            "enter c value2\n",
            "area is 2.9047375096555625\n"
          ]
        }
      ]
    }
  ]
}