{
  "nbformat": 4,
  "nbformat_minor": 0,
  "metadata": {
    "colab": {
      "provenance": [],
      "authorship_tag": "ABX9TyMeUB7IiEvt724zOShD1S2o",
      "include_colab_link": true
    },
    "kernelspec": {
      "name": "python3",
      "display_name": "Python 3"
    },
    "language_info": {
      "name": "python"
    }
  },
  "cells": [
    {
      "cell_type": "markdown",
      "metadata": {
        "id": "view-in-github",
        "colab_type": "text"
      },
      "source": [
        "<a href=\"https://colab.research.google.com/github/KatyayaniI5/ADSA-LAB/blob/main/Week_2.ipynb\" target=\"_parent\"><img src=\"https://colab.research.google.com/assets/colab-badge.svg\" alt=\"Open In Colab\"/></a>"
      ]
    },
    {
      "cell_type": "code",
      "execution_count": null,
      "metadata": {
        "colab": {
          "base_uri": "https://localhost:8080/"
        },
        "id": "hSBtR_AhPQrf",
        "outputId": "6901cbcd-4084-48a9-cf9d-a54dbee197ed"
      },
      "outputs": [
        {
          "output_type": "stream",
          "name": "stdout",
          "text": [
            "Enter the value of num1:45\n",
            "Enter the value of num2:6\n",
            "Enter the value of num3:3\n",
            "num1 is large\n"
          ]
        }
      ],
      "source": [
        "#Largest of 3 numbers\n",
        "num1=int(input(\"Enter the value of num1:\"))\n",
        "num2=int(input(\"Enter the value of num2:\"))\n",
        "num3=int(input(\"Enter the value of num3:\"))\n",
        "if(num1>num2 and num1>num3):\n",
        "  print(\"num1 is large\")\n",
        "elif(num2>num3):\n",
        "  print(\"num2 is large\")\n",
        "else:\n",
        "  print(\"num3 is large\")"
      ]
    },
    {
      "cell_type": "code",
      "source": [
        "#Two numbers are equal or not\n",
        "num1=int(input(\"Enter the value of num1:\"))\n",
        "num2=int(input(\"Enter the value of num2:\"))\n",
        "if(num1==num2):\n",
        "  print(\"num1 and num2 are equal\")\n",
        "else:\n",
        "  print(\"num1 and num2 are not equal\")\n"
      ],
      "metadata": {
        "colab": {
          "base_uri": "https://localhost:8080/"
        },
        "id": "x1dKw0wmS93u",
        "outputId": "ec3f8205-526e-4893-f66e-f84c599aba61"
      },
      "execution_count": null,
      "outputs": [
        {
          "output_type": "stream",
          "name": "stdout",
          "text": [
            "Enter the value of num1:15\n",
            "Enter the value of num2:15\n",
            "num1 and num2 are equal\n"
          ]
        }
      ]
    },
    {
      "cell_type": "code",
      "source": [
        "#Even or odd\n",
        "num1=int(input(\"Enter the value of num1:\"))\n",
        "if(num1%2==0):\n",
        "  print(\"%d is a even integer\"%(num1))\n",
        "else:\n",
        "  print(\"%d is a odd integer\"%(num1))"
      ],
      "metadata": {
        "colab": {
          "base_uri": "https://localhost:8080/"
        },
        "id": "ExEZcas8TzUH",
        "outputId": "ce0a5a6c-176d-4f52-8aa6-5f43af970644"
      },
      "execution_count": null,
      "outputs": [
        {
          "output_type": "stream",
          "name": "stdout",
          "text": [
            "Enter the value of num1:15\n",
            "15 is a odd integer\n"
          ]
        }
      ]
    },
    {
      "cell_type": "code",
      "source": [
        "#A number is positive,negative or zero\n",
        "num1=int(input(\"Enter the value of num1:\"))\n",
        "if(num1>0):\n",
        "  print(\"%d is a positive integer\"%(num1))\n",
        "elif(num1<0):\n",
        "  print(\"%d is a negative integer\"%(num1))\n",
        "else:\n",
        "  print(\"it is equal to zero\")\n"
      ],
      "metadata": {
        "colab": {
          "base_uri": "https://localhost:8080/"
        },
        "id": "6oTjzZqqVk-f",
        "outputId": "958ef5cb-7bee-4dc1-8e9e-6753dffed224"
      },
      "execution_count": null,
      "outputs": [
        {
          "output_type": "stream",
          "name": "stdout",
          "text": [
            "Enter the value of num1:15\n",
            "15 is a positive integer\n"
          ]
        }
      ]
    },
    {
      "cell_type": "code",
      "source": [
        "#Leap year or not\n",
        "a=int(input(\"Enter the year\"))\n",
        "if(a%4==0 and a%100!=0 or a%400==0):\n",
        " print(\"%d is a leap year\"%(a))\n",
        "else:\n",
        "  print(\"%d is not a leap year\"%(a))"
      ],
      "metadata": {
        "colab": {
          "base_uri": "https://localhost:8080/"
        },
        "id": "AseXR1oVa13g",
        "outputId": "a3b9a0ca-fc32-4682-df5c-da1ec295a07a"
      },
      "execution_count": null,
      "outputs": [
        {
          "output_type": "stream",
          "name": "stdout",
          "text": [
            "Enter the year2016\n",
            "2016 is a leap year\n"
          ]
        }
      ]
    },
    {
      "cell_type": "code",
      "source": [
        "#Vote right\n",
        "a=int(input(\"Enter the age of the person\"))\n",
        "if(a>=18):\n",
        "  print(\"Congratulations! You have the right to vote\")\n",
        "else:\n",
        "  print(\"You don't have the right to vote\")"
      ],
      "metadata": {
        "colab": {
          "base_uri": "https://localhost:8080/"
        },
        "id": "kIx5pZ2DcVwp",
        "outputId": "1718f471-ed3a-4433-de1c-560b16540b47"
      },
      "execution_count": null,
      "outputs": [
        {
          "output_type": "stream",
          "name": "stdout",
          "text": [
            "Enter the age of the person21\n",
            "Congratulations! You have the right to vote\n"
          ]
        }
      ]
    },
    {
      "cell_type": "code",
      "source": [
        "m=int(input(\"Enter the value of m:\"))\n",
        "if(m>0):\n",
        "  print(\"the value of n is 1\")\n",
        "elif(m<0):\n",
        "  print(\" The value of n is -1\")\n",
        "else:\n",
        "  print(\"The value of n is 0\")"
      ],
      "metadata": {
        "colab": {
          "base_uri": "https://localhost:8080/"
        },
        "id": "VMJEFtwWc5xi",
        "outputId": "cf95bcdb-ae6e-42c8-adbd-cac027a249a4"
      },
      "execution_count": null,
      "outputs": [
        {
          "output_type": "stream",
          "name": "stdout",
          "text": [
            "Enter the value of m:-5\n",
            " The value of n is -1\n"
          ]
        }
      ]
    },
    {
      "cell_type": "code",
      "source": [
        "# XY coordinate system\n",
        "X=int(input(\"Enter the value in X cordinate\"))\n",
        "Y=int(input(\"Enter the value in Y cordinate\"))\n",
        "if(X>0 and Y>0):\n",
        "  print(\"(%d,%d) lies in first quadrant\"%(X,Y))\n",
        "elif(X<0 and Y>0):\n",
        "   print(\"(%d,%d) lies in second quadrant\"%(X,Y))\n",
        "elif(X<0 and Y<0):\n",
        "   print(\"(%d,%d) lies in third quadrant\"%(X,Y))\n",
        "else:\n",
        "  print(\"(%d,%d) lies in fourth quadrant\"%(X,Y))\n",
        "\n"
      ],
      "metadata": {
        "colab": {
          "base_uri": "https://localhost:8080/"
        },
        "id": "yH-Y9SWQdnKi",
        "outputId": "c3bff755-d95a-4f06-a733-b1485ec8102c"
      },
      "execution_count": null,
      "outputs": [
        {
          "output_type": "stream",
          "name": "stdout",
          "text": [
            "Enter the value in X cordinate7\n",
            "Enter the value in Y cordinate9\n",
            "(7,9) lies in first quadrant\n"
          ]
        }
      ]
    },
    {
      "cell_type": "code",
      "source": [
        "#Temperature\n",
        "t=int(input(\"Enter the temperature:\"))\n",
        "if(t<0):\n",
        "  print(\"Freezing weather\")\n",
        "elif(0<=t<10):\n",
        "  print(\"It's very cold weather\")\n",
        "elif(10<=t<20):\n",
        "  print(\"It's  cold weather\")\n",
        "elif(20<=t<30):\n",
        "  print(\"It's normal weather\")\n",
        "elif(30<=t<40):\n",
        "  print(\"It's hot weather\")\n",
        "else:\n",
        "  print(\"It's very hot\")\n"
      ],
      "metadata": {
        "colab": {
          "base_uri": "https://localhost:8080/"
        },
        "id": "0YsjwsmYfJtS",
        "outputId": "0362dbe6-af62-4295-dce4-8188168e096c"
      },
      "execution_count": null,
      "outputs": [
        {
          "output_type": "stream",
          "name": "stdout",
          "text": [
            "Enter the temperature:42\n",
            "It's very hot\n"
          ]
        }
      ]
    },
    {
      "cell_type": "code",
      "source": [
        "#To form a triangle\n",
        "a=int(input(\"Enter the angle of a:\"))\n",
        "b=int(input(\"Enter the angle of b:\"))\n",
        "c=int(input(\"Enter the angle of c:\"))\n",
        "if(a+b+c==180 and a>0 and b>0 and c>0):\n",
        "  print(\"The given angles form a triangle\")\n",
        "else:\n",
        "   print(\"The given angles  does not form a triangle\")"
      ],
      "metadata": {
        "colab": {
          "base_uri": "https://localhost:8080/"
        },
        "id": "AXZYyMeSiGD7",
        "outputId": "d891fe35-14ee-4e70-f99a-fc89881fd382"
      },
      "execution_count": null,
      "outputs": [
        {
          "output_type": "stream",
          "name": "stdout",
          "text": [
            "Enter the angle of a:40\n",
            "Enter the angle of b:55\n",
            "Enter the angle of c:65\n",
            "The given angles  does not form a triangle\n"
          ]
        }
      ]
    }
  ]
}