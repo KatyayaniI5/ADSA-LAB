{
  "nbformat": 4,
  "nbformat_minor": 0,
  "metadata": {
    "colab": {
      "provenance": [],
      "authorship_tag": "ABX9TyN2Lxn2qkLmPBdXRLd4Kcun",
      "include_colab_link": true
    },
    "kernelspec": {
      "name": "python3",
      "display_name": "Python 3"
    },
    "language_info": {
      "name": "python"
    }
  },
  "cells": [
    {
      "cell_type": "markdown",
      "metadata": {
        "id": "view-in-github",
        "colab_type": "text"
      },
      "source": [
        "<a href=\"https://colab.research.google.com/github/KatyayaniI5/ADSA-LAB/blob/main/Week9.ipynb\" target=\"_parent\"><img src=\"https://colab.research.google.com/assets/colab-badge.svg\" alt=\"Open In Colab\"/></a>"
      ]
    },
    {
      "cell_type": "code",
      "source": [
        "l=[1,2,3,4,5,'Apple','Kiwi']\n",
        "print(l)"
      ],
      "metadata": {
        "colab": {
          "base_uri": "https://localhost:8080/"
        },
        "id": "dHe3wUXdkWi3",
        "outputId": "0230fd1b-0f1c-40c8-c9ac-cc4dfd9cc77c"
      },
      "execution_count": null,
      "outputs": [
        {
          "output_type": "stream",
          "name": "stdout",
          "text": [
            "[1, 2, 3, 4, 5, 'Apple', 'Kiwi']\n"
          ]
        }
      ]
    },
    {
      "cell_type": "code",
      "source": [
        "l=[1,2,3,4,5,'Apple','Kiwi']\n",
        "l.append('orange')\n",
        "l.insert(4,'Grapes')\n",
        "print(\"List after adding elements:\",l)\n",
        "l.remove('orange')\n",
        "l.pop(7)\n",
        "print(\"List after removing elements:\",l)\n"
      ],
      "metadata": {
        "colab": {
          "base_uri": "https://localhost:8080/"
        },
        "id": "gUq13O2zk9gn",
        "outputId": "d6616bd5-f846-4e5b-dea5-4151c0396620"
      },
      "execution_count": null,
      "outputs": [
        {
          "output_type": "stream",
          "name": "stdout",
          "text": [
            "List after adding elements: [1, 2, 3, 4, 'Grapes', 5, 'Apple', 'Kiwi', 'orange']\n",
            "List after removing elements: [1, 2, 3, 4, 'Grapes', 5, 'Apple']\n"
          ]
        }
      ]
    },
    {
      "cell_type": "code",
      "source": [
        "l = [1, 2, 3, 4, 5]\n",
        "\n",
        "for i in l:\n",
        "  print(i)\n"
      ],
      "metadata": {
        "colab": {
          "base_uri": "https://localhost:8080/"
        },
        "id": "fUgTiI1Xlwtf",
        "outputId": "912da821-b73f-4beb-9cc4-c56d293e1225"
      },
      "execution_count": null,
      "outputs": [
        {
          "output_type": "stream",
          "name": "stdout",
          "text": [
            "1\n",
            "2\n",
            "3\n",
            "4\n",
            "5\n"
          ]
        }
      ]
    },
    {
      "cell_type": "code",
      "source": [
        "l=[1,2,3,4,5,6,7]\n",
        "l.insert(4,8)\n",
        "print(l)"
      ],
      "metadata": {
        "colab": {
          "base_uri": "https://localhost:8080/"
        },
        "id": "qehG_pRgnmz_",
        "outputId": "079793fe-5218-42ec-8860-036e2eb450d4"
      },
      "execution_count": null,
      "outputs": [
        {
          "output_type": "stream",
          "name": "stdout",
          "text": [
            "[1, 2, 3, 4, 8, 5, 6, 7]\n"
          ]
        }
      ]
    },
    {
      "cell_type": "code",
      "source": [
        "\n",
        "\n",
        "l = [11, 5, 17, 18, 23, 50]\n",
        "print(\"Original list:\", l)\n",
        "\n",
        "del l[2:5]\n",
        "print(\"List after removing elements from index 2 to 4:\", l)\n"
      ],
      "metadata": {
        "colab": {
          "base_uri": "https://localhost:8080/"
        },
        "id": "kKSohXgan3cO",
        "outputId": "f4c9014e-35b5-4b27-c196-54c989819e11"
      },
      "execution_count": null,
      "outputs": [
        {
          "output_type": "stream",
          "name": "stdout",
          "text": [
            "Original list: [11, 5, 17, 18, 23, 50]\n",
            "List after removing elements from index 2 to 4: [11, 5, 50]\n"
          ]
        }
      ]
    },
    {
      "cell_type": "code",
      "source": [
        "l=[2,4,6,1,0,8,5]\n",
        "l.sort()\n",
        "print(l)"
      ],
      "metadata": {
        "colab": {
          "base_uri": "https://localhost:8080/"
        },
        "id": "v5QRDoD7oIhP",
        "outputId": "9c63be36-26f2-4122-9c43-2e1db5f7fddb"
      },
      "execution_count": null,
      "outputs": [
        {
          "output_type": "stream",
          "name": "stdout",
          "text": [
            "[0, 1, 2, 4, 5, 6, 8]\n"
          ]
        }
      ]
    },
    {
      "cell_type": "code",
      "source": [
        "\n",
        "\n",
        "def differ(l1, l2):\n",
        "\n",
        "  di= []\n",
        "  for element in l1:\n",
        "    if element not in l2:\n",
        "      di.append(element)\n",
        "  return di\n",
        "\n",
        "l1 = [1, 2, 3, 4, 5]\n",
        "l2 = [3, 4, 5, 6, 7]\n",
        "difference = differ(l1, l2)\n",
        "print(\"Difference between list1 and list2:\", difference)\n"
      ],
      "metadata": {
        "colab": {
          "base_uri": "https://localhost:8080/"
        },
        "id": "ynUIbL93oc3_",
        "outputId": "9be188ba-82b4-4ba8-f43a-40feb419b68d"
      },
      "execution_count": null,
      "outputs": [
        {
          "output_type": "stream",
          "name": "stdout",
          "text": [
            "Difference between list1 and list2: [1, 2]\n"
          ]
        }
      ]
    },
    {
      "cell_type": "code",
      "source": [],
      "metadata": {
        "id": "ULZ4VhEspPp-"
      },
      "execution_count": null,
      "outputs": []
    },
    {
      "cell_type": "code",
      "source": [
        "\n",
        "\n",
        "def find_first_match_index(lst, element):\n",
        "\n",
        "  try:\n",
        "    return lst.index(element)\n",
        "  except ValueError:\n",
        "    return -1\n",
        "\n",
        "my_list = [1, 2, 3, 4, 5, 2, 6]\n",
        "element_to_find = 2\n",
        "\n",
        "index = find_first_match_index(my_list, element_to_find)\n",
        "\n",
        "if index != -1:\n",
        "  print(f\"The first occurrence of {element_to_find} is at index {index}\")\n",
        "else:\n",
        "  print(f\"{element_to_find} is not found in the list\")\n"
      ],
      "metadata": {
        "id": "IbswoR9Uz610",
        "colab": {
          "base_uri": "https://localhost:8080/"
        },
        "outputId": "80584e1b-cea5-4bc5-b988-7ca680ae265b"
      },
      "execution_count": null,
      "outputs": [
        {
          "output_type": "stream",
          "name": "stdout",
          "text": [
            "The first occurrence of 2 is at index 1\n"
          ]
        }
      ]
    },
    {
      "cell_type": "code",
      "source": [
        "a= [56,89,47,99,10, 20, 30, 40, 50]\n",
        "a.sort()\n",
        "print(a)\n",
        "[10, 20, 30, 40, 47, 50, 56, 89, 99]\n",
        "print(a[0])\n",
        "10\n",
        "print(a[8])"
      ],
      "metadata": {
        "id": "ge1g8hws3irs",
        "colab": {
          "base_uri": "https://localhost:8080/"
        },
        "outputId": "ec61ffb8-fc2b-4ce7-9fe1-97e614feb4a9"
      },
      "execution_count": null,
      "outputs": [
        {
          "output_type": "stream",
          "name": "stdout",
          "text": [
            "[10, 20, 30, 40, 47, 50, 56, 89, 99]\n",
            "10\n",
            "99\n"
          ]
        }
      ]
    },
    {
      "cell_type": "code",
      "source": [
        "my_list = []\n",
        "n = int(input(\"How many elements do you want to add? \"))\n",
        "for i in range(n):\n",
        "  element = input(f\"Enter element {i+1}:\")\n",
        "\n",
        "  my_list.append(element)\n",
        "print(\"The list elements are:\", my_list)"
      ],
      "metadata": {
        "colab": {
          "base_uri": "https://localhost:8080/"
        },
        "id": "W7ukXQ57yiP1",
        "outputId": "43c2c657-8375-4ccb-a7fe-473746bbf04a"
      },
      "execution_count": null,
      "outputs": [
        {
          "output_type": "stream",
          "name": "stdout",
          "text": [
            "How many elements do you want to add? 3\n",
            "Enter element 1:mango\n",
            "Enter element 2:watermelon\n",
            "Enter element 3:papaya\n",
            "The list elements are: ['mango', 'watermelon', 'papaya']\n"
          ]
        }
      ]
    },
    {
      "cell_type": "code",
      "source": [
        "a= [56,89,47,99,10, 20, 30, 40, 50,99,50]\n",
        "my_list=list(set(a))\n",
        "print(my_list)"
      ],
      "metadata": {
        "colab": {
          "base_uri": "https://localhost:8080/"
        },
        "id": "76LsCR10zRe1",
        "outputId": "9e8af651-f354-4bdd-c281-8927b85dbc70"
      },
      "execution_count": null,
      "outputs": [
        {
          "output_type": "stream",
          "name": "stdout",
          "text": [
            "[99, 40, 10, 47, 50, 20, 56, 89, 30]\n"
          ]
        }
      ]
    },
    {
      "cell_type": "code",
      "source": [
        "my_list = [10, 15, 20, 25, 30, 35, 40, 45, 50]\n",
        "even_list = []\n",
        "odd_list = []\n",
        "\n",
        "for num in my_list:\n",
        "  if num % 2 == 0:\n",
        "    even_list.append(num)\n",
        "  else:\n",
        "    odd_list.append(num)\n",
        "print(\"Even numbers:\", even_list)\n",
        "print(\"Odd numbers:\", odd_list)"
      ],
      "metadata": {
        "colab": {
          "base_uri": "https://localhost:8080/"
        },
        "id": "oHt_dZ8fzaGc",
        "outputId": "bdbde36c-0a98-4f72-cbe8-92b79e10a8af"
      },
      "execution_count": null,
      "outputs": [
        {
          "output_type": "stream",
          "name": "stdout",
          "text": [
            "Even numbers: [10, 20, 30, 40, 50]\n",
            "Odd numbers: [15, 25, 35, 45]\n"
          ]
        }
      ]
    },
    {
      "cell_type": "code",
      "source": [
        "my_list = [12, 24, 35, 40, 60, 72, 80, 90]\n",
        "M = int(input(\"Enter value for M:\"))\n",
        "N = int(input(\"Enter value for N: \"))\n",
        "divisible_by_M_and_N = []\n",
        "for num in my_list:\n",
        "  if num % M == 0 and num % N == 0:\n",
        "    divisible_by_M_and_N.append(num)\n",
        "\n",
        "print(f\"Numbers divisible by both {M} and {N} are:\",divisible_by_M_and_N)\n"
      ],
      "metadata": {
        "colab": {
          "base_uri": "https://localhost:8080/"
        },
        "id": "UqlteAmTzub0",
        "outputId": "864158ca-8744-44d7-cf16-a4b3a85b0c8b"
      },
      "execution_count": null,
      "outputs": [
        {
          "output_type": "stream",
          "name": "stdout",
          "text": [
            "Enter value for M:3\n",
            "Enter value for N: 5\n",
            "Numbers divisible by both 3 and 5 are: [60, 90]\n"
          ]
        }
      ]
    },
    {
      "cell_type": "code",
      "source": [
        "my_list = [10, 20, 30, 40, 50, 60, 70, 80, 90, 100]\n",
        "start_index = int(input(\"Enter the start index:\"))\n",
        "end_index = int(input(\"Enter the end index:\" ))\n",
        "sublist = my_list[start_index:end_index+1]\n",
        "print(f\"The sublist from index {start_index} to {end_index} is:\", sublist)"
      ],
      "metadata": {
        "colab": {
          "base_uri": "https://localhost:8080/"
        },
        "id": "vIIDvKPw0Wat",
        "outputId": "1c763a1c-1e3a-4e40-90d4-68814225a0bd"
      },
      "execution_count": null,
      "outputs": [
        {
          "output_type": "stream",
          "name": "stdout",
          "text": [
            "Enter the start index:2\n",
            "Enter the end index:6\n",
            "The sublist from index 2 to 6 is: [30, 40, 50, 60, 70]\n"
          ]
        }
      ]
    },
    {
      "cell_type": "code",
      "source": [
        "start = int(input(\"Enter the start of the range: \"))\n",
        "end = int(input(\"Enter the end of the range: \"))\n",
        "numbers = list(range(start, end + 1))\n",
        "squares = [num ** 2 for num in numbers]\n",
        "cubes = [num ** 3 for num in numbers]\n",
        "print(\"Numbers:\", numbers)\n",
        "print(\"Squares:\", squares)\n",
        "print(\"Cubes:\", cubes)"
      ],
      "metadata": {
        "colab": {
          "base_uri": "https://localhost:8080/"
        },
        "id": "_LVDlTZa0xRU",
        "outputId": "a7a04c38-f356-466a-ce90-356e8c081866"
      },
      "execution_count": null,
      "outputs": [
        {
          "output_type": "stream",
          "name": "stdout",
          "text": [
            "Enter the start of the range: 2\n",
            "Enter the end of the range: 7\n",
            "Numbers: [2, 3, 4, 5, 6, 7]\n",
            "Squares: [4, 9, 16, 25, 36, 49]\n",
            "Cubes: [8, 27, 64, 125, 216, 343]\n"
          ]
        }
      ]
    },
    {
      "cell_type": "code",
      "source": [
        "def split_list(input_list):\n",
        "  mid = len(input_list) //2\n",
        "  first_half = input_list[:mid]\n",
        "  second_half = input_list[mid:]\n",
        "  return first_half, second_half\n",
        "my_list = [1, 2, 3, 4, 5, 6, 7, 8]\n",
        "first_half, second_half = split_list(my_list)\n",
        "print(\"First half:\", first_half)\n",
        "print(\"Second half:\", second_half)"
      ],
      "metadata": {
        "colab": {
          "base_uri": "https://localhost:8080/"
        },
        "id": "Fmi3Q7SC1Ook",
        "outputId": "7cb04dbf-518d-4132-acd8-6fbdfb285e1d"
      },
      "execution_count": null,
      "outputs": [
        {
          "output_type": "stream",
          "name": "stdout",
          "text": [
            "First half: [1, 2, 3, 4]\n",
            "Second half: [5, 6, 7, 8]\n"
          ]
        }
      ]
    },
    {
      "cell_type": "code",
      "source": [
        "def check_element_in_list(input_list, element):\n",
        "  if element in input_list:\n",
        "    return True\n",
        "  else:\n",
        "    return False\n",
        "\n",
        "my_list = [10, 20, 30, 40, 50]\n",
        "\n",
        "element_to_check = 30\n",
        "is_present = check_element_in_list(my_list, element_to_check)\n",
        "\n",
        "if is_present:\n",
        "  print(f\"{element_to_check} is present in the list.\")\n",
        "else:\n",
        "  print(f\";{element_to_check} is not present in the list.\")"
      ],
      "metadata": {
        "colab": {
          "base_uri": "https://localhost:8080/"
        },
        "id": "spKHHQ0Y1s18",
        "outputId": "3f4d1662-dfd7-4d72-f73a-07a2aefd0251"
      },
      "execution_count": null,
      "outputs": [
        {
          "output_type": "stream",
          "name": "stdout",
          "text": [
            "30 is present in the list.\n"
          ]
        }
      ]
    },
    {
      "cell_type": "code",
      "source": [
        "def swap_elements(input_list, index1, index2):\n",
        "  if index1<0 or index1 >= len(input_list) or index2 < 0 or index2 >=len(input_list):\n",
        "    print(\"Invalid indices!\")\n",
        "    return input_list\n",
        "  input_list[index1], input_list[index2] = input_list[index2],input_list[index1]\n",
        "  return input_list\n",
        "\n",
        "my_list = [10, 20, 30, 40, 50]\n",
        "index1 = 1\n",
        "index2 = 3\n",
        "swapped_list = swap_elements(my_list, index1, index2)\n",
        "print(\"List after swapping:\", swapped_list)"
      ],
      "metadata": {
        "colab": {
          "base_uri": "https://localhost:8080/"
        },
        "id": "cPbEz7_P2FpU",
        "outputId": "171de02c-e7b8-43e1-b7ae-9747ee72e263"
      },
      "execution_count": null,
      "outputs": [
        {
          "output_type": "stream",
          "name": "stdout",
          "text": [
            "List after swapping: [10, 40, 30, 20, 50]\n"
          ]
        }
      ]
    },
    {
      "cell_type": "code",
      "source": [
        "def interchange_first_last(input_list):\n",
        "\n",
        "  if len(input_list) < 2:\n",
        "\n",
        "    print(\"List is too short to interchange elements!\")\n",
        "    return input_list\n",
        "  input_list[0], input_list[-1] = input_list[-1], input_list[0]\n",
        "  return input_list\n",
        "my_list = [10, 20, 30, 40, 50]\n",
        "modified_list = interchange_first_last(my_list)\n",
        "print(\"List after interchanging first and last elements:\", modified_list)"
      ],
      "metadata": {
        "colab": {
          "base_uri": "https://localhost:8080/"
        },
        "id": "KOaMZJZy3k_E",
        "outputId": "da18f7a9-c334-4bfe-ffa4-cea493a94782"
      },
      "execution_count": null,
      "outputs": [
        {
          "output_type": "stream",
          "name": "stdout",
          "text": [
            "List after interchanging first and last elements: [50, 20, 30, 40, 10]\n"
          ]
        }
      ]
    },
    {
      "cell_type": "code",
      "source": [
        "def cumulative_sum(input_list):\n",
        "  cumulative_sum_list = []\n",
        "  total = 0\n",
        "  for number in input_list:\n",
        "    total += number\n",
        "    cumulative_sum_list.append(total)\n",
        "  return cumulative_sum_list\n",
        "my_list = [1, 2, 3, 4, 5]\n",
        "result = cumulative_sum(my_list)\n",
        "print(\"Cumulative sum of elements:\", result)"
      ],
      "metadata": {
        "colab": {
          "base_uri": "https://localhost:8080/"
        },
        "id": "wRdPF7gY4VBs",
        "outputId": "ec9dfd8a-5532-48eb-f338-d8a3e0627311"
      },
      "execution_count": null,
      "outputs": [
        {
          "output_type": "stream",
          "name": "stdout",
          "text": [
            "Cumulative sum of elements: [1, 3, 6, 10, 15]\n"
          ]
        }
      ]
    }
  ]
}